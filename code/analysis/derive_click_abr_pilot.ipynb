{
 "cells": [
  {
   "cell_type": "markdown",
   "id": "c16f6dd6",
   "metadata": {},
   "source": [
    "#### Import libs"
   ]
  },
  {
   "cell_type": "code",
   "execution_count": 1,
   "id": "50ae985a",
   "metadata": {},
   "outputs": [],
   "source": [
    "%matplotlib qt\n",
    "import numpy as np\n",
    "import scipy.signal as signal\n",
    "from numpy.fft import fft, ifft\n",
    "import matplotlib.pyplot as plt\n",
    "from expyfun.io import read_wav\n",
    "import mne"
   ]
  },
  {
   "cell_type": "markdown",
   "id": "e03f4c93",
   "metadata": {},
   "source": [
    "#### Define Filtering Functions\n",
    "\n",
    "we have to use causal filter"
   ]
  },
  {
   "cell_type": "code",
   "execution_count": 2,
   "id": "41493eea",
   "metadata": {},
   "outputs": [],
   "source": [
    "# %% Define Filtering Functions\n",
    "\n",
    "def butter_highpass(cutoff, fs, order=1):\n",
    "    nyq = 0.5 * fs\n",
    "    normal_cutoff = cutoff / nyq\n",
    "    b, a = signal.butter(order, normal_cutoff, btype='high', analog=False)\n",
    "    return b, a\n",
    "\n",
    "\n",
    "def butter_highpass_filter(data, cutoff, fs, order=1):\n",
    "    b, a = butter_highpass(cutoff, fs, order=order)\n",
    "    y = signal.lfilter(b, a, data)\n",
    "    return y\n",
    "\n",
    "\n",
    "def butter_lowpass(cutoff, fs, order=1):\n",
    "    nyq = 0.5 * fs\n",
    "    normal_cutoff = cutoff / nyq\n",
    "    b, a = signal.butter(order, normal_cutoff, btype='low', analog=False)\n",
    "    return b, a\n",
    "\n",
    "\n",
    "def butter_lowpass_filter(data, cutoff, fs, order=1):\n",
    "    b, a = butter_lowpass(cutoff, fs, order=order)\n",
    "    y = signal.lfilter(b, a, data)\n",
    "    return y\n",
    "\n",
    "\n",
    "def butter_bandpass(lowcut, highcut, fs, order=1):\n",
    "    nyq = 0.5 * fs\n",
    "    low = lowcut / nyq\n",
    "    high = highcut / nyq\n",
    "    b, a = signal.butter(order, [low, high], btype='band')\n",
    "    return b, a\n",
    "\n",
    "\n",
    "def butter_bandpass_filter(data, lowcut, highcut, fs, order=1):\n",
    "    b, a = butter_bandpass(lowcut, highcut, fs, order=order)\n",
    "    y = signal.lfilter(b, a, data)\n",
    "    return y\n"
   ]
  },
  {
   "cell_type": "markdown",
   "id": "aba52e3c",
   "metadata": {},
   "source": [
    "### Basic Experiment Parameters"
   ]
  },
  {
   "cell_type": "code",
   "execution_count": 3,
   "id": "d07ad878",
   "metadata": {},
   "outputs": [],
   "source": [
    "# %% Parameters\n",
    "# Anlysis\n",
    "is_click = True # if derive click ABR\n",
    "is_ABR = True # if derive only ABR channels\n",
    "# Stim param\n",
    "stim_fs = 48000 # stimulus sampling frequency\n",
    "t_click = 60 # click trial length\n",
    "click_rate = 40\n",
    "# EEG param\n",
    "eeg_n_channel = 2 # total channel of ABR\n",
    "eeg_fs = 10000 # eeg sampling frequency\n",
    "eeg_f_hp = 1 # high pass cutoff"
   ]
  },
  {
   "cell_type": "markdown",
   "id": "6a61e2bd",
   "metadata": {},
   "source": [
    "### Load EEG data"
   ]
  },
  {
   "cell_type": "code",
   "execution_count": 4,
   "id": "be9c4332",
   "metadata": {},
   "outputs": [
    {
     "name": "stdout",
     "output_type": "stream",
     "text": [
      "Extracting parameters from /Users/tongshan/Documents/ABR/data/pilot_10_20250716-selected/pilot_10_full.vhdr...\n",
      "Setting channel info structure...\n",
      "Reading 0 ... 14457599  =      0.000 ...  1445.760 secs...\n",
      "Used Annotations descriptions: ['New Segment/', 'Stimulus/S  1', 'Stimulus/S  2', 'Stimulus/S  4', 'Stimulus/S  8']\n"
     ]
    }
   ],
   "source": [
    "#EEG\n",
    "eeg_vhdr = '/Users/tongshan/Documents/ABR/data/pilot_10_20250716-selected/pilot_10_full.vhdr'\n",
    "eeg_raw = mne.io.read_raw_brainvision(eeg_vhdr, preload=True)\n",
    "events, event_dict = mne.events_from_annotations(eeg_raw)"
   ]
  },
  {
   "cell_type": "markdown",
   "id": "423a2d12",
   "metadata": {},
   "source": [
    "### Pick ABR channels"
   ]
  },
  {
   "cell_type": "code",
   "execution_count": 5,
   "id": "08c404ee",
   "metadata": {},
   "outputs": [
    {
     "name": "stdout",
     "output_type": "stream",
     "text": [
      "NOTE: pick_channels() is a legacy function. New code should use inst.pick(...).\n"
     ]
    },
    {
     "data": {
      "text/html": [
       "<script type=\"text/javascript\">\n",
       "    // must be `var` (not `const`) because this can get embedded multiple times on a page\n",
       "var toggleVisibility = (className) => {\n",
       "\n",
       "    const elements = document.querySelectorAll(`.${className}`);\n",
       "\n",
       "    elements.forEach(element => {\n",
       "        if (element.classList.contains(\"mne-repr-section-header\")) {\n",
       "            return  // Don't collapse the section header row\n",
       "        }\n",
       "        element.classList.toggle(\"mne-repr-collapsed\");\n",
       "    });\n",
       "\n",
       "    // trigger caret to rotate\n",
       "    var sel = `.mne-repr-section-header.${className} > th.mne-repr-section-toggle > button`;\n",
       "    const button = document.querySelector(sel);\n",
       "    button.classList.toggle(\"collapsed\");\n",
       "\n",
       "    // adjust tooltip\n",
       "    sel = `tr.mne-repr-section-header.${className}`;\n",
       "    const secHeadRow = document.querySelector(sel);\n",
       "    secHeadRow.classList.toggle(\"collapsed\");\n",
       "    secHeadRow.title = secHeadRow.title === \"Hide section\" ? \"Show section\" : \"Hide section\";\n",
       "}\n",
       "</script>\n",
       "\n",
       "<style type=\"text/css\">\n",
       "    /*\n",
       "Styles in this section apply both to the sphinx-built website docs and to notebooks\n",
       "rendered in an IDE or in Jupyter. In our web docs, styles here are complemented by\n",
       "doc/_static/styles.css and other CSS files (e.g. from the sphinx theme, sphinx-gallery,\n",
       "or bootstrap). In IDEs/Jupyter, those style files are unavailable, so only the rules in\n",
       "this file apply (plus whatever default styling the IDE applies).\n",
       "*/\n",
       ".mne-repr-table {\n",
       "    display: inline;  /* prevent using full container width */\n",
       "}\n",
       ".mne-repr-table tr.mne-repr-section-header > th {\n",
       "    padding-top: 1rem;\n",
       "    text-align: left;\n",
       "    vertical-align: middle;\n",
       "}\n",
       ".mne-repr-section-toggle > button {\n",
       "    all: unset;\n",
       "    display: block;\n",
       "    height: 1rem;\n",
       "    width: 1rem;\n",
       "}\n",
       ".mne-repr-section-toggle > button > svg {\n",
       "    height: 60%;\n",
       "}\n",
       "\n",
       "/* transition (rotation) effects on the collapser button */\n",
       ".mne-repr-section-toggle > button.collapsed > svg {\n",
       "    transition: 0.1s ease-out;\n",
       "    transform: rotate(-90deg);\n",
       "}\n",
       ".mne-repr-section-toggle > button:not(.collapsed) > svg {\n",
       "    transition: 0.1s ease-out;\n",
       "    transform: rotate(0deg);\n",
       "}\n",
       "\n",
       "/* hide collapsed table rows */\n",
       ".mne-repr-collapsed {\n",
       "    display: none;\n",
       "}\n",
       "\n",
       "\n",
       "@layer {\n",
       "    /*\n",
       "    Selectors in a `@layer` will always be lower-precedence than selectors outside the\n",
       "    layer. So even though e.g. `div.output_html` is present in the sphinx-rendered\n",
       "    website docs, the styles here won't take effect there as long as some other rule\n",
       "    somewhere in the page's CSS targets the same element.\n",
       "\n",
       "    In IDEs or Jupyter notebooks, though, the CSS files from the sphinx theme,\n",
       "    sphinx-gallery, and bootstrap are unavailable, so these styles will apply.\n",
       "\n",
       "    Notes:\n",
       "\n",
       "    - the selector `.accordion-body` is for MNE Reports\n",
       "    - the selector `.output_html` is for VSCode's notebook interface\n",
       "    - the selector `.jp-RenderedHTML` is for Jupyter notebook\n",
       "    - variables starting with `--theme-` are VSCode-specific.\n",
       "    - variables starting with `--jp-` are Jupyter styles, *some of which* are also\n",
       "      available in VSCode. Here we try the `--theme-` variable first, then fall back to\n",
       "      the `--jp-` ones.\n",
       "    */\n",
       "    .mne-repr-table {\n",
       "        --mne-toggle-color: var(--theme-foreground, var(--jp-ui-font-color1));\n",
       "        --mne-button-bg-color: var(--theme-button-background, var(--jp-info-color0, var(--jp-content-link-color)));\n",
       "        --mne-button-fg-color: var(--theme-button-foreground, var(--jp-ui-inverse-font-color0, var(--jp-editor-background)));\n",
       "        --mne-button-hover-bg-color: var(--theme-button-hover-background, var(--jp-info-color1));\n",
       "        --mne-button-radius: var(--jp-border-radius, 0.25rem);\n",
       "    }\n",
       "    /* chevron position/alignment; in VSCode it looks ok without adjusting */\n",
       "    .accordion-body .mne-repr-section-toggle > button,\n",
       "    .jp-RenderedHTML .mne-repr-section-toggle > button {\n",
       "        padding: 0 0 45% 25% !important;\n",
       "    }\n",
       "    /* chevron color; MNE Report doesn't have light/dark mode */\n",
       "    div.output_html .mne-repr-section-toggle > button > svg > path,\n",
       "    .jp-RenderedHTML .mne-repr-section-toggle > button > svg > path {\n",
       "        fill: var(--mne-toggle-color);\n",
       "    }\n",
       "    .accordion-body .mne-ch-names-btn,\n",
       "    div.output_html .mne-ch-names-btn,\n",
       "    .jp-RenderedHTML .mne-ch-names-btn {\n",
       "        -webkit-border-radius: var(--mne-button-radius);\n",
       "        -moz-border-radius: var(--mne-button-radius);\n",
       "        border-radius: var(--mne-button-radius);\n",
       "        border: none;\n",
       "        background-image: none;\n",
       "        background-color: var(--mne-button-bg-color);\n",
       "        color: var(--mne-button-fg-color);\n",
       "        font-size: inherit;\n",
       "        min-width: 1.5rem;\n",
       "        padding: 0.25rem;\n",
       "        text-align: center;\n",
       "        text-decoration: none;\n",
       "    }\n",
       "    .accordion-body .mne-ch-names-btn:hover,\n",
       "    div.output_html .mne.ch-names-btn:hover,\n",
       "    .jp-RenderedHTML .mne-ch-names-btn:hover {\n",
       "        background-color: var(--mne-button-hover-bg-color);\n",
       "        text-decoration: underline;\n",
       "    }\n",
       "    .accordion-body .mne-ch-names-btn:focus-visible,\n",
       "    div.output_html .mne-ch-names-btn:focus-visible,\n",
       "    .jp-RenderedHTML .mne-ch-names-btn:focus-visible {\n",
       "        outline: 0.1875rem solid var(--mne-button-bg-color) !important;\n",
       "        outline-offset: 0.1875rem !important;\n",
       "    }\n",
       "}\n",
       "</style>\n",
       "\n",
       "\n",
       "\n",
       "<table class=\"table mne-repr-table\">\n",
       "    \n",
       "\n",
       "\n",
       "\n",
       "\n",
       "\n",
       "\n",
       "\n",
       "<tr class=\"mne-repr-section-header general-af244cb3-2b58-4b8e-8ada-308e4faf5088\"\n",
       "     title=\"Hide section\" \n",
       "    onclick=\"toggleVisibility('general-af244cb3-2b58-4b8e-8ada-308e4faf5088')\">\n",
       "    <th class=\"mne-repr-section-toggle\">\n",
       "        <button >\n",
       "            <svg xmlns=\"http://www.w3.org/2000/svg\" viewBox=\"0 0 512 512\"><!--!Font Awesome Free 6.6.0 by @fontawesome - https://fontawesome.com License - https://fontawesome.com/license/free Copyright 2024 Fonticons, Inc.--><path d=\"M233.4 406.6c12.5 12.5 32.8 12.5 45.3 0l192-192c12.5-12.5 12.5-32.8 0-45.3s-32.8-12.5-45.3 0L256 338.7 86.6 169.4c-12.5-12.5-32.8-12.5-45.3 0s-12.5 32.8 0 45.3l192 192z\"/></svg>\n",
       "        </button>\n",
       "    </th>\n",
       "    <th colspan=\"2\">\n",
       "        <strong>General</strong>\n",
       "    </th>\n",
       "</tr>\n",
       "\n",
       "\n",
       "<tr class=\"repr-element general-af244cb3-2b58-4b8e-8ada-308e4faf5088 \">\n",
       "    <td class=\"mne-repr-section-toggle\"></td>\n",
       "    <td>Filename(s)</td>\n",
       "    <td>\n",
       "        \n",
       "        pilot_10_full.eeg\n",
       "        \n",
       "        \n",
       "    </td>\n",
       "</tr>\n",
       "\n",
       "<tr class=\"repr-element general-af244cb3-2b58-4b8e-8ada-308e4faf5088 \">\n",
       "    <td class=\"mne-repr-section-toggle\"></td>\n",
       "    <td>MNE object type</td>\n",
       "    <td>RawBrainVision</td>\n",
       "</tr>\n",
       "<tr class=\"repr-element general-af244cb3-2b58-4b8e-8ada-308e4faf5088 \">\n",
       "    <td class=\"mne-repr-section-toggle\"></td>\n",
       "    <td>Measurement date</td>\n",
       "    \n",
       "    <td>2025-07-16 at 16:02:09 UTC</td>\n",
       "    \n",
       "</tr>\n",
       "<tr class=\"repr-element general-af244cb3-2b58-4b8e-8ada-308e4faf5088 \">\n",
       "    <td class=\"mne-repr-section-toggle\"></td>\n",
       "    <td>Participant</td>\n",
       "    \n",
       "    <td>Unknown</td>\n",
       "    \n",
       "</tr>\n",
       "<tr class=\"repr-element general-af244cb3-2b58-4b8e-8ada-308e4faf5088 \">\n",
       "    <td class=\"mne-repr-section-toggle\"></td>\n",
       "    <td>Experimenter</td>\n",
       "    \n",
       "    <td>Unknown</td>\n",
       "    \n",
       "</tr>\n",
       "    \n",
       "\n",
       "\n",
       "\n",
       "\n",
       "\n",
       "\n",
       "\n",
       "<tr class=\"mne-repr-section-header acquisition-2bea150b-158a-4d2c-b535-17136946f2d4\"\n",
       "     title=\"Hide section\" \n",
       "    onclick=\"toggleVisibility('acquisition-2bea150b-158a-4d2c-b535-17136946f2d4')\">\n",
       "    <th class=\"mne-repr-section-toggle\">\n",
       "        <button >\n",
       "            <svg xmlns=\"http://www.w3.org/2000/svg\" viewBox=\"0 0 512 512\"><!--!Font Awesome Free 6.6.0 by @fontawesome - https://fontawesome.com License - https://fontawesome.com/license/free Copyright 2024 Fonticons, Inc.--><path d=\"M233.4 406.6c12.5 12.5 32.8 12.5 45.3 0l192-192c12.5-12.5 12.5-32.8 0-45.3s-32.8-12.5-45.3 0L256 338.7 86.6 169.4c-12.5-12.5-32.8-12.5-45.3 0s-12.5 32.8 0 45.3l192 192z\"/></svg>\n",
       "        </button>\n",
       "    </th>\n",
       "    <th colspan=\"2\">\n",
       "        <strong>Acquisition</strong>\n",
       "    </th>\n",
       "</tr>\n",
       "\n",
       "\n",
       "<tr class=\"repr-element acquisition-2bea150b-158a-4d2c-b535-17136946f2d4 \">\n",
       "    <td class=\"mne-repr-section-toggle\"></td>\n",
       "    <td>Duration</td>\n",
       "    <td>00:24:06 (HH:MM:SS)</td>\n",
       "</tr>\n",
       "\n",
       "\n",
       "\n",
       "\n",
       "\n",
       "\n",
       "\n",
       "\n",
       "<tr class=\"repr-element acquisition-2bea150b-158a-4d2c-b535-17136946f2d4 \">\n",
       "    <td class=\"mne-repr-section-toggle\"></td>\n",
       "    <td>Sampling frequency</td>\n",
       "    <td>10000.00 Hz</td>\n",
       "</tr>\n",
       "\n",
       "\n",
       "<tr class=\"repr-element acquisition-2bea150b-158a-4d2c-b535-17136946f2d4 \">\n",
       "    <td class=\"mne-repr-section-toggle\"></td>\n",
       "    <td>Time points</td>\n",
       "    <td>14,457,600</td>\n",
       "</tr>\n",
       "\n",
       "\n",
       "    \n",
       "\n",
       "\n",
       "\n",
       "\n",
       "\n",
       "\n",
       "\n",
       "<tr class=\"mne-repr-section-header channels-ddfd040d-a8d9-492a-b652-71cdf73a1374\"\n",
       "     title=\"Hide section\" \n",
       "    onclick=\"toggleVisibility('channels-ddfd040d-a8d9-492a-b652-71cdf73a1374')\">\n",
       "    <th class=\"mne-repr-section-toggle\">\n",
       "        <button >\n",
       "            <svg xmlns=\"http://www.w3.org/2000/svg\" viewBox=\"0 0 512 512\"><!--!Font Awesome Free 6.6.0 by @fontawesome - https://fontawesome.com License - https://fontawesome.com/license/free Copyright 2024 Fonticons, Inc.--><path d=\"M233.4 406.6c12.5 12.5 32.8 12.5 45.3 0l192-192c12.5-12.5 12.5-32.8 0-45.3s-32.8-12.5-45.3 0L256 338.7 86.6 169.4c-12.5-12.5-32.8-12.5-45.3 0s-12.5 32.8 0 45.3l192 192z\"/></svg>\n",
       "        </button>\n",
       "    </th>\n",
       "    <th colspan=\"2\">\n",
       "        <strong>Channels</strong>\n",
       "    </th>\n",
       "</tr>\n",
       "\n",
       "\n",
       "    \n",
       "<tr class=\"repr-element channels-ddfd040d-a8d9-492a-b652-71cdf73a1374 \">\n",
       "    <td class=\"mne-repr-section-toggle\"></td>\n",
       "    <td>EEG</td>\n",
       "    <td>\n",
       "        <button class=\"mne-ch-names-btn sd-sphinx-override sd-btn sd-btn-info sd-text-wrap sd-shadow-sm\" onclick=\"alert('Good EEG:\\n\\nPlus_R, Minus_R, Plus_L, Minus_L')\" title=\"(Click to open in popup)&#13;&#13;Plus_R, Minus_R, Plus_L, Minus_L\">\n",
       "            4\n",
       "        </button>\n",
       "\n",
       "        \n",
       "    </td>\n",
       "</tr>\n",
       "\n",
       "\n",
       "<tr class=\"repr-element channels-ddfd040d-a8d9-492a-b652-71cdf73a1374 \">\n",
       "    <td class=\"mne-repr-section-toggle\"></td>\n",
       "    <td>Head & sensor digitization</td>\n",
       "    \n",
       "    <td>Not available</td>\n",
       "    \n",
       "</tr>\n",
       "    \n",
       "\n",
       "\n",
       "\n",
       "\n",
       "\n",
       "\n",
       "\n",
       "<tr class=\"mne-repr-section-header filters-121583f3-3257-423e-91f8-306ddae6bdb1\"\n",
       "     title=\"Hide section\" \n",
       "    onclick=\"toggleVisibility('filters-121583f3-3257-423e-91f8-306ddae6bdb1')\">\n",
       "    <th class=\"mne-repr-section-toggle\">\n",
       "        <button >\n",
       "            <svg xmlns=\"http://www.w3.org/2000/svg\" viewBox=\"0 0 512 512\"><!--!Font Awesome Free 6.6.0 by @fontawesome - https://fontawesome.com License - https://fontawesome.com/license/free Copyright 2024 Fonticons, Inc.--><path d=\"M233.4 406.6c12.5 12.5 32.8 12.5 45.3 0l192-192c12.5-12.5 12.5-32.8 0-45.3s-32.8-12.5-45.3 0L256 338.7 86.6 169.4c-12.5-12.5-32.8-12.5-45.3 0s-12.5 32.8 0 45.3l192 192z\"/></svg>\n",
       "        </button>\n",
       "    </th>\n",
       "    <th colspan=\"2\">\n",
       "        <strong>Filters</strong>\n",
       "    </th>\n",
       "</tr>\n",
       "\n",
       "\n",
       "<tr class=\"repr-element filters-121583f3-3257-423e-91f8-306ddae6bdb1 \">\n",
       "    <td class=\"mne-repr-section-toggle\"></td>\n",
       "    <td>Highpass</td>\n",
       "    <td>0.00 Hz</td>\n",
       "</tr>\n",
       "\n",
       "\n",
       "<tr class=\"repr-element filters-121583f3-3257-423e-91f8-306ddae6bdb1 \">\n",
       "    <td class=\"mne-repr-section-toggle\"></td>\n",
       "    <td>Lowpass</td>\n",
       "    <td>2470.00 Hz</td>\n",
       "</tr>\n",
       "\n",
       "\n",
       "</table>"
      ],
      "text/plain": [
       "<RawBrainVision | pilot_10_full.eeg, 4 x 14457600 (1445.8 s), ~441.2 MiB, data loaded>"
      ]
     },
     "execution_count": 5,
     "metadata": {},
     "output_type": "execute_result"
    }
   ],
   "source": [
    "# Select ABR channels\n",
    "eeg_raw.pick_channels(['Plus_R', 'Minus_R', 'Plus_L', 'Minus_L'])"
   ]
  },
  {
   "cell_type": "markdown",
   "id": "cfe784ad",
   "metadata": {},
   "source": [
    "### get ABR channels with reference"
   ]
  },
  {
   "cell_type": "code",
   "execution_count": 6,
   "id": "ef637342",
   "metadata": {},
   "outputs": [
    {
     "name": "stdout",
     "output_type": "stream",
     "text": [
      "Creating RawArray with float64 data, n_channels=2, n_times=14457600\n",
      "    Range : 0 ... 14457599 =      0.000 ...  1445.760 secs\n",
      "Ready.\n"
     ]
    }
   ],
   "source": [
    "# Right ear: Plus_R - Minus_R\n",
    "# Left ear: Plus_L - Minus_L\n",
    "data_R = eeg_raw.get_data(picks=eeg_raw.ch_names[0]) - eeg_raw.get_data(picks=eeg_raw.ch_names[1]) # Right ear\n",
    "data_L = eeg_raw.get_data(picks=eeg_raw.ch_names[2]) - eeg_raw.get_data(picks=eeg_raw.ch_names[3]) # Left ear\n",
    "data = np.vstack((data_R, data_L)) # Combine channels\n",
    "data /= 100 # Scale data to microvolts\n",
    "\n",
    "# make info for RawArray\n",
    "info = mne.create_info(ch_names=[\"EP1\",\"EP2\"], sfreq=eeg_raw.info['sfreq'], ch_types='eeg') \n",
    "eeg_raw_ref = mne.io.RawArray(data, info)"
   ]
  },
  {
   "cell_type": "markdown",
   "id": "42cd3089",
   "metadata": {},
   "source": [
    "### EEG Preprocessing"
   ]
  },
  {
   "cell_type": "code",
   "execution_count": 7,
   "id": "478e6e31",
   "metadata": {},
   "outputs": [],
   "source": [
    "# high pass filter\n",
    "eeg_raw_ref._data = butter_highpass_filter(eeg_raw_ref._data, eeg_f_hp, eeg_fs)\n",
    "# Notch filter\n",
    "notch_freq = np.arange(60, 540, 180)\n",
    "notch_width = 5\n",
    "for nf in notch_freq:\n",
    "    bn, an = signal.iirnotch(nf / (eeg_fs / 2.), float(nf) / notch_width)\n",
    "    eeg_raw_ref._data = signal.lfilter(bn, an, eeg_raw_ref._data)"
   ]
  },
  {
   "cell_type": "markdown",
   "id": "a46dab3f",
   "metadata": {},
   "source": [
    "### Epoching"
   ]
  },
  {
   "cell_type": "code",
   "execution_count": 8,
   "id": "b1b4e4b6",
   "metadata": {},
   "outputs": [
    {
     "name": "stdout",
     "output_type": "stream",
     "text": [
      "Epoching EEG click data...\n",
      "Not setting metadata\n",
      "75 matching events found\n",
      "No baseline correction applied\n",
      "Using data from preloaded Raw for 75 events and 610001 original time points ...\n",
      "0 bad epochs dropped\n"
     ]
    }
   ],
   "source": [
    "# Epoching click\n",
    "print('Epoching EEG click data...')\n",
    "epochs_click = mne.Epochs(eeg_raw_ref, events, tmin=0,\n",
    "                            tmax=(t_click - 1/stim_fs + 1),\n",
    "                            event_id=1, baseline=None,\n",
    "                            preload=True, proj=False)\n",
    "epoch_click = epochs_click.get_data()"
   ]
  },
  {
   "cell_type": "markdown",
   "id": "c67bc456",
   "metadata": {},
   "source": [
    "### Load click wave files and convert to pulse trains"
   ]
  },
  {
   "cell_type": "code",
   "execution_count": null,
   "id": "aa85a968",
   "metadata": {},
   "outputs": [
    {
     "name": "stdout",
     "output_type": "stream",
     "text": [
      "2025-07-22 14:41:41,588 - INFO    - Read WAV file with 1 channel and 2880000 samples (format int16)\n",
      "2025-07-22 14:41:41,604 - INFO    - Read WAV file with 1 channel and 2880000 samples (format int16)\n",
      "2025-07-22 14:41:41,616 - INFO    - Read WAV file with 1 channel and 2880000 samples (format int16)\n",
      "2025-07-22 14:41:41,629 - INFO    - Read WAV file with 1 channel and 2880000 samples (format int16)\n",
      "2025-07-22 14:41:41,640 - INFO    - Read WAV file with 1 channel and 2880000 samples (format int16)\n",
      "2025-07-22 14:41:41,651 - INFO    - Read WAV file with 1 channel and 2880000 samples (format int16)\n",
      "2025-07-22 14:41:41,664 - INFO    - Read WAV file with 1 channel and 2880000 samples (format int16)\n",
      "2025-07-22 14:41:41,675 - INFO    - Read WAV file with 1 channel and 2880000 samples (format int16)\n",
      "2025-07-22 14:41:41,691 - INFO    - Read WAV file with 1 channel and 2880000 samples (format int16)\n",
      "2025-07-22 14:41:41,705 - INFO    - Read WAV file with 1 channel and 2880000 samples (format int16)\n"
     ]
    }
   ],
   "source": [
    "# Load click wave file\n",
    "n_epoch_click = 5\n",
    "x_in = np.zeros((n_epoch_click, int(t_click * eeg_fs)), dtype=float)\n",
    "for ei in range(n_epoch_click):\n",
    "    stim, fs_stim = read_wav('/Users/tongshan/Documents/ABR/present_files/click/' +\n",
    "                                'click{0:03d}'.format(ei) + '.wav')\n",
    "    stim_abs = np.abs(stim)\n",
    "    click_times = [(np.where(np.diff(s) > 0)[0] + 1) /\n",
    "                    float(fs_stim) for s in stim_abs] # Read click event\n",
    "    click_inds = [(ct * eeg_fs).astype(int) for ct in click_times]\n",
    "    x_in[ei, click_inds] = 1 # generate click train as x_in"
   ]
  },
  {
   "cell_type": "markdown",
   "id": "fd7b6c9b",
   "metadata": {},
   "source": [
    "### FFT of click trains (`x_in`) and EEG (`x_out`)"
   ]
  },
  {
   "cell_type": "code",
   "execution_count": null,
   "id": "95d39458",
   "metadata": {},
   "outputs": [],
   "source": [
    "# Get x_out\n",
    "len_eeg = int(eeg_fs * t_click)\n",
    "x_out = np.zeros((n_epoch_click, 2, len_eeg))\n",
    "for i in range(n_epoch_click):\n",
    "    x_out_i = epoch_click[i, :, 0:int(eeg_fs*t_click)]\n",
    "    x_out[i, :, :] = mne.filter.resample(x_out_i, eeg_fs, eeg_fs)\n",
    "x_out = np.mean(x_out, axis=1) # average the two channels"
   ]
  },
  {
   "cell_type": "markdown",
   "id": "92ffb4fd",
   "metadata": {},
   "source": [
    "### Cross Correlation in frequency domain"
   ]
  },
  {
   "cell_type": "code",
   "execution_count": 11,
   "id": "dd516b47",
   "metadata": {},
   "outputs": [
    {
     "name": "stdout",
     "output_type": "stream",
     "text": [
      "Deriving ABR through cross-correlation...\n"
     ]
    }
   ],
   "source": [
    "# Derive ABR\n",
    "print('Deriving ABR through cross-correlation...')\n",
    "t_start, t_stop = -200e-3, 600e-3 # ABR showed range\n",
    "# FFT\n",
    "x_in_fft = fft(x_in, axis=-1)\n",
    "x_out_fft = fft(x_out, axis=-1)"
   ]
  },
  {
   "cell_type": "code",
   "execution_count": 12,
   "id": "756efde6",
   "metadata": {},
   "outputs": [],
   "source": [
    "# Cross Correlation in frequency domain\n",
    "cc = np.real(ifft(x_out_fft * np.conj(x_in_fft)))\n",
    "abr = np.mean(cc, axis=0) # average across 10 trials\n",
    "abr /= (click_rate*t_click) # real unit value"
   ]
  },
  {
   "cell_type": "markdown",
   "id": "e6003f7b",
   "metadata": {},
   "source": [
    "### Concatanate the derived response\n",
    "Since the impulse response is circular, we can concatenate the last 200 ms to be as -200 ms before onset"
   ]
  },
  {
   "cell_type": "code",
   "execution_count": 13,
   "id": "21156ca2",
   "metadata": {},
   "outputs": [],
   "source": [
    "# Concatanate click ABR response as [-200, 600] ms lag range\n",
    "abr_response = np.concatenate((abr[int(t_start*eeg_fs):],\n",
    "                                abr[0:int(t_stop*eeg_fs)]))\n",
    "# generate time vector\n",
    "lags = np.arange(start=t_start*1000, stop=t_stop*1000, step=1e3/eeg_fs)"
   ]
  },
  {
   "cell_type": "markdown",
   "id": "10591eac",
   "metadata": {},
   "source": [
    "### Plot the response"
   ]
  },
  {
   "cell_type": "code",
   "execution_count": 14,
   "id": "f86a4dd5",
   "metadata": {},
   "outputs": [
    {
     "data": {
      "text/plain": [
       "Text(0.5, 1.0, 'ABR response')"
      ]
     },
     "execution_count": 14,
     "metadata": {},
     "output_type": "execute_result"
    }
   ],
   "source": [
    "# Plot ABR\n",
    "plt.figure()\n",
    "plt.plot(lags, abr_response)\n",
    "plt.xlim([-20, 60])\n",
    "plt.xlabel('Lag (ms)')\n",
    "plt.ylabel('Amplitude (uV)')\n",
    "plt.title('ABR response')"
   ]
  }
 ],
 "metadata": {
  "kernelspec": {
   "display_name": "base",
   "language": "python",
   "name": "python3"
  },
  "language_info": {
   "codemirror_mode": {
    "name": "ipython",
    "version": 3
   },
   "file_extension": ".py",
   "mimetype": "text/x-python",
   "name": "python",
   "nbconvert_exporter": "python",
   "pygments_lexer": "ipython3",
   "version": "3.12.2"
  }
 },
 "nbformat": 4,
 "nbformat_minor": 5
}
